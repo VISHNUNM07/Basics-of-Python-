{
  "nbformat": 4,
  "nbformat_minor": 0,
  "metadata": {
    "colab": {
      "provenance": []
    },
    "kernelspec": {
      "name": "python3",
      "display_name": "Python 3"
    },
    "language_info": {
      "name": "python"
    }
  },
  "cells": [
    {
      "cell_type": "markdown",
      "source": [
        "# **Exercise 1: Prime Numbers**\n",
        "**Write a Python program that checks whether a given number is prime or not. A prime number is a natural number greater than 1 that has no positive divisors other than 1 and itself**.\n"
      ],
      "metadata": {
        "id": "h938KLYrYJy6"
      }
    },
    {
      "cell_type": "code",
      "source": [
        "Num = int(input(\"Enter a number:\"))\n",
        "if Num>1:\n",
        "  for i in range(2,Num):\n",
        "    if(Num % 2==0):\n",
        "      print(Num,\"is not a prime number\")\n",
        "      break\n",
        "  else:\n",
        "    print(Num,\"is a prime number\")\n"
      ],
      "metadata": {
        "colab": {
          "base_uri": "https://localhost:8080/"
        },
        "id": "BjG1A7aOYRlA",
        "outputId": "b8a9e984-e3ef-4f40-f7b7-3831f6c381e3"
      },
      "execution_count": 2,
      "outputs": [
        {
          "output_type": "stream",
          "name": "stdout",
          "text": [
            "Enter a number:4\n",
            "4 is not a prime number\n"
          ]
        }
      ]
    },
    {
      "cell_type": "markdown",
      "source": [
        "# **Exercise 2: Product of Random Numbers**\n",
        "**Develop a Python program that generates two random numbers and asks the user to enter the product of these numbers. The program should then check if the user's answer is correct and display an appropriate message**\n"
      ],
      "metadata": {
        "id": "Zwk4R2pga0oJ"
      }
    },
    {
      "cell_type": "code",
      "source": [
        "import random\n",
        "num1=random.randint(1,20)\n",
        "num2=random.randint(1,20)\n",
        "print(\"The first number is:\",num1)\n",
        "print(\"The second number is:\",num2)\n",
        "product=num1*num2\n",
        "User_ans=int(input(f\"What is the product of {num1} and {num2}?\"))\n",
        "if User_ans==product:\n",
        "  print(\"Correct!\")\n",
        "else:\n",
        "  print(\"Incorrect!\")"
      ],
      "metadata": {
        "colab": {
          "base_uri": "https://localhost:8080/"
        },
        "id": "Bw9WTa9YbBOw",
        "outputId": "9a3d67ec-a3c8-45b0-cc5b-e917bab4192d"
      },
      "execution_count": 9,
      "outputs": [
        {
          "output_type": "stream",
          "name": "stdout",
          "text": [
            "The first number is: 15\n",
            "The second number is: 15\n",
            "What is the product of 15 and 15?225\n",
            "Correct!\n"
          ]
        }
      ]
    },
    {
      "cell_type": "markdown",
      "source": [
        "# **Exercise 3: Squares of Even/Odd Numbers**\n",
        "**Create a Python script that prints the squares of all even or odd numbers within the range of 100 to 200. Choose either even or odd numbers and document your choice in the code**.\n"
      ],
      "metadata": {
        "id": "fNIWTAiwcUXT"
      }
    },
    {
      "cell_type": "code",
      "source": [
        "for i in range(100,201):\n",
        "  if i%2==0:\n",
        "    print(\"The square of i is\",i**2)"
      ],
      "metadata": {
        "colab": {
          "base_uri": "https://localhost:8080/"
        },
        "id": "yLxsRRl0cUr4",
        "outputId": "256cc94a-9818-4331-db05-a1b93cc7d569"
      },
      "execution_count": 10,
      "outputs": [
        {
          "output_type": "stream",
          "name": "stdout",
          "text": [
            "The square of i is 10000\n",
            "The square of i is 10404\n",
            "The square of i is 10816\n",
            "The square of i is 11236\n",
            "The square of i is 11664\n",
            "The square of i is 12100\n",
            "The square of i is 12544\n",
            "The square of i is 12996\n",
            "The square of i is 13456\n",
            "The square of i is 13924\n",
            "The square of i is 14400\n",
            "The square of i is 14884\n",
            "The square of i is 15376\n",
            "The square of i is 15876\n",
            "The square of i is 16384\n",
            "The square of i is 16900\n",
            "The square of i is 17424\n",
            "The square of i is 17956\n",
            "The square of i is 18496\n",
            "The square of i is 19044\n",
            "The square of i is 19600\n",
            "The square of i is 20164\n",
            "The square of i is 20736\n",
            "The square of i is 21316\n",
            "The square of i is 21904\n",
            "The square of i is 22500\n",
            "The square of i is 23104\n",
            "The square of i is 23716\n",
            "The square of i is 24336\n",
            "The square of i is 24964\n",
            "The square of i is 25600\n",
            "The square of i is 26244\n",
            "The square of i is 26896\n",
            "The square of i is 27556\n",
            "The square of i is 28224\n",
            "The square of i is 28900\n",
            "The square of i is 29584\n",
            "The square of i is 30276\n",
            "The square of i is 30976\n",
            "The square of i is 31684\n",
            "The square of i is 32400\n",
            "The square of i is 33124\n",
            "The square of i is 33856\n",
            "The square of i is 34596\n",
            "The square of i is 35344\n",
            "The square of i is 36100\n",
            "The square of i is 36864\n",
            "The square of i is 37636\n",
            "The square of i is 38416\n",
            "The square of i is 39204\n",
            "The square of i is 40000\n"
          ]
        }
      ]
    },
    {
      "cell_type": "markdown",
      "source": [
        "# **Exercise 4: Word counter**\n",
        "**write a program to count the number of words in a given text.**\n",
        "**example:**\n",
        "\n",
        "**input_text = \"This is a sample text. This text will be used to demonstrate the  word counter.\"**\n",
        "\n",
        "**Expected output:**\n",
        "\n",
        "'This': 2\n",
        "\n",
        "'is': 1\n",
        "\n",
        "'a': 1\n",
        "\n",
        "'sample': 1\n",
        "\n",
        "'text': 1\n",
        "\n"
      ],
      "metadata": {
        "id": "Qop560sCdQnW"
      }
    },
    {
      "cell_type": "code",
      "source": [
        "input_text = \"This is a sample text. This text will be used to demonstrate the word counter.\"\n",
        "words = input_text.split()\n",
        "word_count = {}\n",
        "for word in words:\n",
        "    if word in word_count:\n",
        "        word_count[word] += 1\n",
        "    else:\n",
        "        word_count[word] = 1\n",
        "for key,value in word_count.items():\n",
        "  print(f\"{key}:{value}\")"
      ],
      "metadata": {
        "colab": {
          "base_uri": "https://localhost:8080/"
        },
        "id": "ryNcI3Ybe-HH",
        "outputId": "202f597f-5c7f-44bd-e52b-1fd746186c28"
      },
      "execution_count": 12,
      "outputs": [
        {
          "output_type": "stream",
          "name": "stdout",
          "text": [
            "This:2\n",
            "is:1\n",
            "a:1\n",
            "sample:1\n",
            "text.:1\n",
            "text:1\n",
            "will:1\n",
            "be:1\n",
            "used:1\n",
            "to:1\n",
            "demonstrate:1\n",
            "the:1\n",
            "word:1\n",
            "counter.:1\n"
          ]
        }
      ]
    },
    {
      "cell_type": "markdown",
      "source": [
        "# **Exercise 5: Check for palindrome**\n",
        "\n",
        "**Write a python function called is_palindrome that takes a string as input and returns True if the string is a palindrome,and False otherwise.A palindrome is a word,phrase,number,or other sequence of characters that reads the same forward and backward,ignoring spaces,punctuation and capitalization.**\n",
        "\n",
        "**Example:**\n",
        "\n",
        "**Input:'racecar'**\n",
        "\n",
        "**Expected output:True**"
      ],
      "metadata": {
        "id": "qbbYcy25gevV"
      }
    },
    {
      "cell_type": "code",
      "source": [
        "def is_palindrome(s):\n",
        "    return s  == s[::-1]\n",
        "\n",
        "input_word = input('Enter the word: ')\n",
        "\n",
        "if is_palindrome(input_word):\n",
        "    print(input_word, 'is a palindrome')\n",
        "else:\n",
        "    print(input_word,'is not a palindrome')"
      ],
      "metadata": {
        "colab": {
          "base_uri": "https://localhost:8080/"
        },
        "id": "zYsMMhJ8gfFH",
        "outputId": "6e92ebd6-071f-44cf-c58e-639c3646b361"
      },
      "execution_count": 14,
      "outputs": [
        {
          "output_type": "stream",
          "name": "stdout",
          "text": [
            "Enter the word: POS\n",
            "POS is not a palindrome\n"
          ]
        }
      ]
    }
  ]
}